{
 "metadata": {
  "name": "",
  "signature": "sha256:21fc2d155dfe3014657edd8d12cd8285622f85f2b29167866ec65b18f405065c"
 },
 "nbformat": 3,
 "nbformat_minor": 0,
 "worksheets": [
  {
   "cells": [
    {
     "cell_type": "code",
     "collapsed": false,
     "input": [
      "from text import *"
     ],
     "language": "python",
     "metadata": {},
     "outputs": [],
     "prompt_number": 1
    },
    {
     "cell_type": "code",
     "collapsed": false,
     "input": [
      "prefixPath = \"./text/\"\n",
      "filename = prefixPath + 'training_small.csv'\n",
      "testfile = prefixPath + 'test_small.csv'\n",
      "stoplistfile = prefixPath + \"stopwords.txt\"\n",
      "\n",
      "model = classify(filename, testfile, stoplistfile)"
     ],
     "language": "python",
     "metadata": {},
     "outputs": [
      {
       "output_type": "stream",
       "stream": "stdout",
       "text": [
        "Counting ...\n",
        "DONE TRAINING\n",
        "\n"
       ]
      },
      {
       "output_type": "stream",
       "stream": "stdout",
       "text": [
        "\n",
        "\n",
        "       Classified as: \n",
        "           0    2    4   \n",
        "        +-----+-----+-----+\n",
        " 0    |  35 |  15 |  11 |\n",
        " 2    |   6 |  18 |   9 |\n",
        " 4    |  17 |  15 |  33 |\n",
        "        +-----+-----+-----+\n",
        "\n",
        "54.088 percent correct\n",
        "total of 159 instances\n"
       ]
      }
     ],
     "prompt_number": 2
    },
    {
     "cell_type": "code",
     "collapsed": false,
     "input": [
      "print model.prob[4]['awesome']\n",
      "print model.prob[0]['awful']\n",
      "print model.prob[2]['meh']\n",
      "print model.prob[0]['hate']\n",
      "print model.prob[4]['love']\n"
     ],
     "language": "python",
     "metadata": {},
     "outputs": [
      {
       "output_type": "stream",
       "stream": "stdout",
       "text": [
        "0.0012404287902\n",
        "0.000186195548627\n",
        "0.000200100050025\n",
        "0.0027236511648\n",
        "0.00600306278714\n"
       ]
      }
     ],
     "prompt_number": 7
    },
    {
     "cell_type": "code",
     "collapsed": false,
     "input": [
      "print len(model.prob[0].keys())"
     ],
     "language": "python",
     "metadata": {},
     "outputs": [
      {
       "output_type": "stream",
       "stream": "stdout",
       "text": [
        "27666\n"
       ]
      }
     ],
     "prompt_number": 8
    },
    {
     "cell_type": "code",
     "collapsed": false,
     "input": [],
     "language": "python",
     "metadata": {},
     "outputs": []
    }
   ],
   "metadata": {}
  }
 ]
}