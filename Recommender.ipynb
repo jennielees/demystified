{
 "metadata": {
  "name": "",
  "signature": "sha256:8c1f288b3a092cae99198f916e44cce89955e9e69f3425e7b0410036f3057efa"
 },
 "nbformat": 3,
 "nbformat_minor": 0,
 "worksheets": [
  {
   "cells": [
    {
     "cell_type": "code",
     "collapsed": false,
     "input": [
      "from recommender import *\n",
      "\n",
      "r = Recommender()"
     ],
     "language": "python",
     "metadata": {},
     "outputs": []
    },
    {
     "cell_type": "markdown",
     "metadata": {},
     "source": [
      "Load the book database into the recommender:"
     ]
    },
    {
     "cell_type": "code",
     "collapsed": false,
     "input": [
      "r.loadBookDB()"
     ],
     "language": "python",
     "metadata": {},
     "outputs": [
      {
       "output_type": "stream",
       "stream": "stdout",
       "text": [
        "1700018\n"
       ]
      }
     ],
     "prompt_number": 4
    },
    {
     "cell_type": "code",
     "collapsed": false,
     "input": [
      "# View a specific user's ratings and generate a recommendation.\n",
      "r.userRatings('276704', 5)\n",
      "r.recommend('276704')"
     ],
     "language": "python",
     "metadata": {},
     "outputs": [
      {
       "output_type": "stream",
       "stream": "stdout",
       "text": [
        "Ratings for cedar park, texas, usa\n",
        "17\n",
        "Get Clark Smart : The Ultimate Guide for the Savvy Consumer by Clark Howard\t9\n",
        "Dreamcatcher by Stephen King\t7\n",
        "Winter Moon by Dean R. Koontz\t6\n",
        "Perplexing Lateral Thinking Puzzles: Scholastic Edition by Paul Sloane\t5\n",
        "White Abacus by Damien Broderick\t5\n"
       ]
      },
      {
       "metadata": {},
       "output_type": "pyout",
       "prompt_number": 9,
       "text": [
        "[(u'My Secret Life by Anonymous', 10.0),\n",
        " (u'Three Complete Novels: The Cat Who Saw Red/the Cat Who Played Brahms/the Cat Who Played Post Office by Lilian Jackson Braun',\n",
        "  9.0),\n",
        " (u\"Parliament of Whores: A Lone Humorist Attempts to Explain the Entire U.S. Government by P.J. O'Rourke\",\n",
        "  9.0),\n",
        " (u'Maia by Richard Adams', 9.0),\n",
        " (u'Origami Omnibus: Paper-Folding for Everybody by Kunihiko Kasahara', 9.0)]"
       ]
      }
     ],
     "prompt_number": 9
    },
    {
     "cell_type": "code",
     "collapsed": false,
     "input": [],
     "language": "python",
     "metadata": {},
     "outputs": []
    }
   ],
   "metadata": {}
  }
 ]
}