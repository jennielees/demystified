{
 "metadata": {
  "name": "",
  "signature": "sha256:522e5a2e9aa930272ff4d34536064ccc72252230bcaa001c9ef9ef0304f74742"
 },
 "nbformat": 3,
 "nbformat_minor": 0,
 "worksheets": [
  {
   "cells": [
    {
     "cell_type": "code",
     "collapsed": false,
     "input": [
      "from music import *\n",
      "from pprint import pprint\n",
      "pprint(music)"
     ],
     "language": "python",
     "metadata": {},
     "outputs": [
      {
       "output_type": "stream",
       "stream": "stdout",
       "text": [
        "{'Black Eyed Peas/Rock That Body': {'backup vocals': 2,\n",
        "                                    'beat': 5,\n",
        "                                    'blues': 1,\n",
        "                                    'guitar': 2,\n",
        "                                    'piano': 2,\n",
        "                                    'rap': 4,\n",
        "                                    'vocals': 5},\n",
        " 'Dr Dog/Fate': {'backup vocals': 4,\n",
        "                 'beat': 3.5,\n",
        "                 'blues': 3,\n",
        "                 'guitar': 5,\n",
        "                 'piano': 2.5,\n",
        "                 'rap': 1,\n",
        "                 'vocals': 4},\n",
        " \"Glee Cast/Jessie's Girl\": {'backup vocals': 5,\n",
        "                             'beat': 3.5,\n",
        "                             'blues': 3,\n",
        "                             'guitar': 4,\n",
        "                             'piano': 1,\n",
        "                             'rap': 1,\n",
        "                             'vocals': 5},\n",
        " 'Heartless Bastards/Out at Sea': {'backup vocals': 1,\n",
        "                                   'beat': 4,\n",
        "                                   'blues': 2,\n",
        "                                   'guitar': 4,\n",
        "                                   'piano': 1,\n",
        "                                   'rap': 1,\n",
        "                                   'vocals': 5},\n",
        " 'La Roux/Bulletproof': {'backup vocals': 1,\n",
        "                         'beat': 4,\n",
        "                         'blues': 2,\n",
        "                         'guitar': 1,\n",
        "                         'piano': 5,\n",
        "                         'rap': 1,\n",
        "                         'vocals': 5},\n",
        " 'Lady Gaga/Alejandro': {'backup vocals': 2,\n",
        "                         'beat': 3,\n",
        "                         'blues': 2,\n",
        "                         'guitar': 1,\n",
        "                         'piano': 1,\n",
        "                         'rap': 1,\n",
        "                         'vocals': 5},\n",
        " 'Mike Posner': {'backup vocals': 1,\n",
        "                 'beat': 4,\n",
        "                 'blues': 1,\n",
        "                 'guitar': 1,\n",
        "                 'piano': 2.5,\n",
        "                 'rap': 1,\n",
        "                 'vocals': 4},\n",
        " 'Phoenix/Lisztomania': {'backup vocals': 1,\n",
        "                         'beat': 5,\n",
        "                         'blues': 3,\n",
        "                         'guitar': 2,\n",
        "                         'piano': 2,\n",
        "                         'rap': 1,\n",
        "                         'vocals': 5},\n",
        " 'The Black Keys/Magic Potion': {'backup vocals': 1,\n",
        "                                 'beat': 5,\n",
        "                                 'blues': 3.5,\n",
        "                                 'guitar': 5,\n",
        "                                 'piano': 1,\n",
        "                                 'rap': 1,\n",
        "                                 'vocals': 4},\n",
        " \"Todd Snider/Don't Tempt Me\": {'backup vocals': 5,\n",
        "                                'beat': 4,\n",
        "                                'blues': 4,\n",
        "                                'guitar': 1,\n",
        "                                'piano': 4,\n",
        "                                'rap': 1,\n",
        "                                'vocals': 5}}\n"
       ]
      }
     ],
     "prompt_number": 3
    },
    {
     "cell_type": "code",
     "collapsed": false,
     "input": [
      "# Get the distance to the other songs.\n",
      "computeNearestNeighbor('The Black Keys/Magic Potion', music) "
     ],
     "language": "python",
     "metadata": {},
     "outputs": [
      {
       "metadata": {},
       "output_type": "pyout",
       "prompt_number": 5,
       "text": [
        "[(4.5, 'Heartless Bastards/Out at Sea'),\n",
        " (5.5, 'Phoenix/Lisztomania'),\n",
        " (6.5, 'Dr Dog/Fate'),\n",
        " (8.0, \"Glee Cast/Jessie's Girl\"),\n",
        " (9.0, 'Mike Posner'),\n",
        " (9.5, 'Lady Gaga/Alejandro'),\n",
        " (11.5, 'Black Eyed Peas/Rock That Body'),\n",
        " (11.5, 'La Roux/Bulletproof'),\n",
        " (13.5, \"Todd Snider/Don't Tempt Me\")]"
       ]
      }
     ],
     "prompt_number": 5
    },
    {
     "cell_type": "code",
     "collapsed": false,
     "input": [
      "# Slope One: Calculates the difference between pairs of items over users\n",
      "\n",
      "from recommender3 import *\n",
      "pprint(users2)\n",
      "print\n",
      "\n",
      "r = Recommender(users2)\n",
      "r.computeDeviations()\n",
      "print r.deviations"
     ],
     "language": "python",
     "metadata": {},
     "outputs": [
      {
       "output_type": "stream",
       "stream": "stdout",
       "text": [
        "{'Amy': {'PSY': 3, 'Taylor Swift': 4, 'Whitney Houston': 4},\n",
        " 'Ben': {'PSY': 2, 'Taylor Swift': 5},\n",
        " 'Clara': {'PSY': 3.5, 'Whitney Houston': 4},\n",
        " 'Daisy': {'Taylor Swift': 5, 'Whitney Houston': 3}}\n",
        "\n",
        "{'PSY': {'Taylor Swift': -2.0, 'Whitney Houston': -0.75}, 'Taylor Swift': {'PSY': 2.0, 'Whitney Houston': 1.0}, 'Whitney Houston': {'PSY': 0.75, 'Taylor Swift': -1.0}}\n"
       ]
      }
     ],
     "prompt_number": 11
    },
    {
     "cell_type": "markdown",
     "metadata": {},
     "source": [
      "This shows that, with this small dataset, a user's rating for PSY is on average -2 from their rating of Taylor Swift."
     ]
    },
    {
     "cell_type": "code",
     "collapsed": false,
     "input": [
      "# What are the recommendations for Ben?\n",
      "r.slopeOneRecommendations(users2['Ben'])"
     ],
     "language": "python",
     "metadata": {},
     "outputs": [
      {
       "metadata": {},
       "output_type": "pyout",
       "prompt_number": 12,
       "text": [
        "[('Whitney Houston', 3.375)]"
       ]
      }
     ],
     "prompt_number": 12
    },
    {
     "cell_type": "code",
     "collapsed": false,
     "input": [
      "# More complex: looking at movies data\n",
      "\n",
      "r = Recommender(0)\n",
      "r.loadMovieLens('./ml-100k/')"
     ],
     "language": "python",
     "metadata": {},
     "outputs": [
      {
       "output_type": "stream",
       "stream": "stdout",
       "text": [
        "102625\n"
       ]
      }
     ],
     "prompt_number": 13
    },
    {
     "cell_type": "code",
     "collapsed": false,
     "input": [
      "# Show top items rated by user 1\n",
      "r.showUserTopItems('1', 20)"
     ],
     "language": "python",
     "metadata": {},
     "outputs": [
      {
       "output_type": "stream",
       "stream": "stdout",
       "text": [
        "When Harry Met Sally... (1989)\t5\n",
        "Jean de Florette (1986)\t5\n",
        "Godfather, The (1972)\t5\n",
        "Big Night (1996)\t5\n",
        "Manon of the Spring (Manon des sources) (1986)\t5\n",
        "Sling Blade (1996)\t5\n",
        "Breaking the Waves (1996)\t5\n",
        "Terminator 2: Judgment Day (1991)\t5\n",
        "Searching for Bobby Fischer (1993)\t5\n",
        "Maya Lin: A Strong Clear Vision (1994)\t5\n",
        "Mighty Aphrodite (1995)\t5\n",
        "Bound (1996)\t5\n",
        "Full Monty, The (1997)\t5\n",
        "Chasing Amy (1997)\t5\n",
        "Ridicule (1996)\t5\n",
        "Nightmare Before Christmas, The (1993)\t5\n",
        "Three Colors: Red (1994)\t5\n",
        "Professional, The (1994)\t5\n",
        "Priest (1994)\t5\n",
        "Welcome to the Dollhouse (1995)\t5\n"
       ]
      }
     ],
     "prompt_number": 14
    },
    {
     "cell_type": "code",
     "collapsed": false,
     "input": [
      "# Compute deviations. Wait for it; there are over 100K ratings.\n",
      "r.computeDeviations()"
     ],
     "language": "python",
     "metadata": {},
     "outputs": [],
     "prompt_number": 15
    },
    {
     "cell_type": "code",
     "collapsed": false,
     "input": [
      "# Get recommendations for user 1\n",
      "r.slopeOneRecommendations(r.data['1'])"
     ],
     "language": "python",
     "metadata": {},
     "outputs": [
      {
       "metadata": {},
       "output_type": "pyout",
       "prompt_number": 20,
       "text": [
        "[(u'Entertaining Angels: The Dorothy Day Story (1996)', 6.375),\n",
        " (u'Aiqing wansui (1994)', 5.849056603773585),\n",
        " (u'Boys, Les (1997)', 5.644970414201183),\n",
        " (u\"Someone Else's America (1995)\", 5.391304347826087),\n",
        " (u'Santa with Muscles (1996)', 5.380952380952381),\n",
        " (u'Great Day in Harlem, A (1994)', 5.275862068965517),\n",
        " (u'Little City (1998)', 5.236363636363636),\n",
        " (u'Pather Panchali (1955)', 5.209612817089453),\n",
        " (u'Saint of Fort Washington, The (1993)', 5.201754385964913),\n",
        " (u\"Some Mother's Son (1996)\", 5.154471544715447),\n",
        " (u'Faust (1994)', 5.127450980392157),\n",
        " (u'Angel Baby (1995)', 5.021671826625387),\n",
        " (u'Butcher Boy, The (1998)', 4.966101694915254),\n",
        " (u'Spanish Prisoner, The (1997)', 4.966101694915254),\n",
        " (u'Butcher Boy, The (1998)', 4.966101694915254),\n",
        " (u'Brothers in Trouble (1995)', 4.966101694915254),\n",
        " (u'Anna (1996)', 4.932),\n",
        " (u'Bitter Sugar (Azucar Amargo) (1996)', 4.897689768976898),\n",
        " (u'They Made Me a Criminal (1939)', 4.853932584269663),\n",
        " (u'Mina Tannenbaum (1994)', 4.8479809976247035),\n",
        " (u'Lady of Burlesque (1943)', 4.8471337579617835),\n",
        " (u'Damsel in Distress, A (1937)', 4.8471337579617835),\n",
        " (u'Crossfire (1947)', 4.795221843003413),\n",
        " (u'Celestial Clockwork (1994)', 4.739393939393939),\n",
        " (u'Close Shave, A (1995)', 4.726250906453952),\n",
        " (u'Kaspar Hauser (1993)', 4.709150326797386),\n",
        " (u'Hearts and Minds (1996)', 4.7011494252873565),\n",
        " (u'Marlene Dietrich: Shadow and Light (1996)', 4.689320388349515),\n",
        " (u'Casablanca (1942)', 4.67981560060768),\n",
        " (u\"Schindler's List (1993)\", 4.628353671967928),\n",
        " (u'Fille seule, La (A Single Girl) (1995)', 4.624277456647399),\n",
        " (u'He Walked by Night (1948)', 4.613636363636363),\n",
        " (u'Rear Window (1954)', 4.581766452251361),\n",
        " (u'Some Folks Call It a Sling Blade (1993)', 4.573160873080032),\n",
        " (u'Hard Eight (1996)', 4.557741659538067),\n",
        " (u'Nico Icon (1995)', 4.542087542087542),\n",
        " (u'Prefontaine (1997)', 4.53757225433526),\n",
        " (u'Secrets & Lies (1996)', 4.534787552982529),\n",
        " (u'Safe (1995)', 4.514070006863418),\n",
        " (u'Third Man, The (1949)', 4.507483466759485),\n",
        " (u'Whole Wide World, The (1996)', 4.507281553398058),\n",
        " (u'Lawrence of Arabia (1962)', 4.494218022845861),\n",
        " (u'North by Northwest (1959)', 4.489735464315238),\n",
        " (u'Raise the Red Lantern (1991)', 4.482798970278493),\n",
        " (u'Dr. Strangelove or: How I Learned to Stop Worrying and Love the Bomb (1963)',\n",
        "  4.4823841698841695),\n",
        " (u'Fresh (1994)', 4.477443609022556),\n",
        " (u\"One Flew Over the Cuckoo's Nest (1975)\", 4.477127303982428),\n",
        " (u'A Chef in Love (1996)', 4.475460122699387),\n",
        " (u'Waiting for Guffman (1996)', 4.4721643346233995),\n",
        " (u'To Kill a Mockingbird (1962)', 4.464825460795353)]"
       ]
      }
     ],
     "prompt_number": 20
    },
    {
     "cell_type": "code",
     "collapsed": false,
     "input": [
      "# Recommend movies for yourself\n",
      "import random\n",
      "movies = r.productid2name.keys()\n",
      "\n",
      "print \"Rating movies. If you haven't seen a movie, just press Enter to skip.\"\n",
      "stop = False\n",
      "rated = 0\n",
      "r.data['1000'] = {}\n",
      "while not stop:\n",
      "    movie = random.choice(movies)\n",
      "    rating = raw_input(\"Rate %s on a scale of 1-5, or x to exit: \" % r.productid2name[movie])\n",
      "    if rating not in [\"1\", \"2\", \"3\", \"4\", \"5\"]:\n",
      "        print \"OK, skipping.\"\n",
      "    else:\n",
      "        rated += 1\n",
      "        r.data['1000'][movie] = int(rating)\n",
      "        print \"Rated it %s. You have rated %s movies.\" % (rating, rated)\n",
      "    stop = rating == \"x\"\n",
      "    if stop:\n",
      "        print \"OK, computing...\"\n",
      "\n",
      "print \"Done rating movies. Calculating recommendations.\"\n",
      "\n",
      "r.recomputeDeviations('1000')\n",
      "r.slopeOneRecommendations(r.data['1000'])"
     ],
     "language": "python",
     "metadata": {},
     "outputs": [
      {
       "output_type": "stream",
       "stream": "stdout",
       "text": [
        "Rating movies. If you haven't seen a movie, just press Enter to skip.\n"
       ]
      },
      {
       "name": "stdout",
       "output_type": "stream",
       "stream": "stdout",
       "text": [
        "Rate Paris Is Burning (1990) on a scale of 1-5, or x to exit: \n"
       ]
      },
      {
       "output_type": "stream",
       "stream": "stdout",
       "text": [
        "OK, skipping.\n"
       ]
      },
      {
       "name": "stdout",
       "output_type": "stream",
       "stream": "stdout",
       "text": [
        "Rate Jefferson in Paris (1995) on a scale of 1-5, or x to exit: \n"
       ]
      },
      {
       "output_type": "stream",
       "stream": "stdout",
       "text": [
        "OK, skipping.\n"
       ]
      },
      {
       "name": "stdout",
       "output_type": "stream",
       "stream": "stdout",
       "text": [
        "Rate Raging Bull (1980) on a scale of 1-5, or x to exit: \n"
       ]
      },
      {
       "output_type": "stream",
       "stream": "stdout",
       "text": [
        "OK, skipping.\n"
       ]
      },
      {
       "name": "stdout",
       "output_type": "stream",
       "stream": "stdout",
       "text": [
        "Rate Tom and Huck (1995) on a scale of 1-5, or x to exit: \n"
       ]
      },
      {
       "output_type": "stream",
       "stream": "stdout",
       "text": [
        "OK, skipping.\n"
       ]
      },
      {
       "name": "stdout",
       "output_type": "stream",
       "stream": "stdout",
       "text": [
        "Rate Bread and Chocolate (Pane e cioccolata) (1973) on a scale of 1-5, or x to exit: \n"
       ]
      },
      {
       "output_type": "stream",
       "stream": "stdout",
       "text": [
        "OK, skipping.\n"
       ]
      },
      {
       "name": "stdout",
       "output_type": "stream",
       "stream": "stdout",
       "text": [
        "Rate Anne Frank Remembered (1995) on a scale of 1-5, or x to exit: \n"
       ]
      },
      {
       "output_type": "stream",
       "stream": "stdout",
       "text": [
        "OK, skipping.\n"
       ]
      },
      {
       "name": "stdout",
       "output_type": "stream",
       "stream": "stdout",
       "text": [
        "Rate King of New York (1990) on a scale of 1-5, or x to exit: 1\n"
       ]
      },
      {
       "output_type": "stream",
       "stream": "stdout",
       "text": [
        "Rated it 1. You have rated 1 movies.\n"
       ]
      },
      {
       "name": "stdout",
       "output_type": "stream",
       "stream": "stdout",
       "text": [
        "Rate My Life and Times With Antonin Artaud (En compagnie d'Antonin Artaud) (1993) on a scale of 1-5, or x to exit: 2\n"
       ]
      },
      {
       "output_type": "stream",
       "stream": "stdout",
       "text": [
        "Rated it 2. You have rated 2 movies.\n"
       ]
      },
      {
       "name": "stdout",
       "output_type": "stream",
       "stream": "stdout",
       "text": [
        "Rate Gone with the Wind (1939) on a scale of 1-5, or x to exit: 3\n"
       ]
      },
      {
       "output_type": "stream",
       "stream": "stdout",
       "text": [
        "Rated it 3. You have rated 3 movies.\n"
       ]
      },
      {
       "name": "stdout",
       "output_type": "stream",
       "stream": "stdout",
       "text": [
        "Rate Pretty Woman (1990) on a scale of 1-5, or x to exit: 4\n"
       ]
      },
      {
       "output_type": "stream",
       "stream": "stdout",
       "text": [
        "Rated it 4. You have rated 4 movies.\n"
       ]
      },
      {
       "name": "stdout",
       "output_type": "stream",
       "stream": "stdout",
       "text": [
        "Rate Promesse, La (1996) on a scale of 1-5, or x to exit: 5\n"
       ]
      },
      {
       "output_type": "stream",
       "stream": "stdout",
       "text": [
        "Rated it 5. You have rated 5 movies.\n"
       ]
      },
      {
       "name": "stdout",
       "output_type": "stream",
       "stream": "stdout",
       "text": [
        "Rate Lady of Burlesque (1943) on a scale of 1-5, or x to exit: 1\n"
       ]
      },
      {
       "output_type": "stream",
       "stream": "stdout",
       "text": [
        "Rated it 1. You have rated 6 movies.\n"
       ]
      },
      {
       "name": "stdout",
       "output_type": "stream",
       "stream": "stdout",
       "text": [
        "Rate Some Kind of Wonderful (1987) on a scale of 1-5, or x to exit: 2\n"
       ]
      },
      {
       "output_type": "stream",
       "stream": "stdout",
       "text": [
        "Rated it 2. You have rated 7 movies.\n"
       ]
      },
      {
       "name": "stdout",
       "output_type": "stream",
       "stream": "stdout",
       "text": [
        "Rate Shadowlands (1993) on a scale of 1-5, or x to exit: 3\n"
       ]
      },
      {
       "output_type": "stream",
       "stream": "stdout",
       "text": [
        "Rated it 3. You have rated 8 movies.\n"
       ]
      },
      {
       "name": "stdout",
       "output_type": "stream",
       "stream": "stdout",
       "text": [
        "Rate Speechless (1994) on a scale of 1-5, or x to exit: 4\n"
       ]
      },
      {
       "output_type": "stream",
       "stream": "stdout",
       "text": [
        "Rated it 4. You have rated 9 movies.\n"
       ]
      },
      {
       "name": "stdout",
       "output_type": "stream",
       "stream": "stdout",
       "text": [
        "Rate Barbarella (1968) on a scale of 1-5, or x to exit: 5\n"
       ]
      },
      {
       "output_type": "stream",
       "stream": "stdout",
       "text": [
        "Rated it 5. You have rated 10 movies.\n"
       ]
      },
      {
       "name": "stdout",
       "output_type": "stream",
       "stream": "stdout",
       "text": [
        "Rate Platoon (1986) on a scale of 1-5, or x to exit: x\n"
       ]
      },
      {
       "output_type": "stream",
       "stream": "stdout",
       "text": [
        "OK, skipping.\n",
        "OK, computing...\n",
        "Done rating movies. Calculating recommendations.\n"
       ]
      },
      {
       "metadata": {},
       "output_type": "pyout",
       "prompt_number": 16,
       "text": [
        "[(u'Santa with Muscles (1996)', 7.5),\n",
        " (u'Tough and Deadly (1995)', 7.5),\n",
        " (u'Aiqing wansui (1994)', 7.333333333333333),\n",
        " (u'Window to Paris (1994)', 6.5),\n",
        " (u'Farmer & Chase (1995)', 6.5),\n",
        " (u'Gate of Heavenly Peace, The (1995)', 6.5),\n",
        " (u'Faust (1994)', 6.25),\n",
        " (u'Object of My Affection, The (1998)', 6.0),\n",
        " (u\"Jupiter's Wife (1994)\", 6.0),\n",
        " (u'Rough Magic (1995)', 6.0),\n",
        " (u'Little City (1998)', 6.0),\n",
        " (u'Anna (1996)', 5.5),\n",
        " (u'S.F.W. (1994)', 5.125),\n",
        " (u'Night Flier (1997)', 5.0),\n",
        " (u'Killer: A Journal of Murder (1995)', 5.0),\n",
        " (u'Desert Winds (1995)', 5.0),\n",
        " (u'Intimate Relations (1996)', 5.0),\n",
        " (u'Open Season (1996)', 5.0),\n",
        " (u'Great Day in Harlem, A (1994)', 5.0),\n",
        " (u'Twisted (1996)', 5.0),\n",
        " (u'Nightwatch (1997)', 5.0),\n",
        " (u'Tainted (1998)', 5.0),\n",
        " (u'Wedding Bell Blues (1996)', 5.0),\n",
        " (u'Next Step, The (1995)', 5.0),\n",
        " (u'8 Heads in a Duffel Bag (1997)', 5.0),\n",
        " (u'Head Above Water (1996)', 5.0),\n",
        " (u'Underworld (1997)', 5.0),\n",
        " (u'Angel Baby (1995)', 4.928571428571429),\n",
        " (u'Albino Alligator (1996)', 4.833333333333333),\n",
        " (u'Hearts and Minds (1996)', 4.75),\n",
        " (u'He Walked by Night (1948)', 4.5),\n",
        " (u'Colonel Chabert, Le (1994)', 4.5),\n",
        " (u'Bitter Sugar (Azucar Amargo) (1996)', 4.5),\n",
        " (u'Search for One-eye Jimmy, The (1996)', 4.5),\n",
        " (u'Best Men (1997)', 4.416666666666667),\n",
        " (u'A Chef in Love (1996)', 4.4),\n",
        " (u'Butcher Boy, The (1998)', 4.4),\n",
        " (u'Spanish Prisoner, The (1997)', 4.4),\n",
        " (u'Butcher Boy, The (1998)', 4.4),\n",
        " (u'Brothers in Trouble (1995)', 4.4),\n",
        " (u'Kaspar Hauser (1993)', 4.378787878787879),\n",
        " (u\"Some Mother's Son (1996)\", 4.375),\n",
        " (u'Fille seule, La (A Single Girl) (1995)', 4.333333333333333),\n",
        " (u'Boys, Les (1997)', 4.333333333333333),\n",
        " (u'Substance of Fire, The (1996)', 4.333333333333333),\n",
        " (u'Hard Eight (1996)', 4.266666666666667),\n",
        " (u'Wings of Courage (1995)', 4.25),\n",
        " (u'Kissed (1996)', 4.222222222222222),\n",
        " (u'Hollow Reed (1996)', 4.208333333333334),\n",
        " (u'Dark City (1998)', 4.145833333333334)]"
       ]
      }
     ],
     "prompt_number": 16
    },
    {
     "cell_type": "code",
     "collapsed": false,
     "input": [
      "# Only run this piece of code if you want to rate -more- movies. Running the one above will reset.\n",
      "stop = False\n",
      "rated = len(r.data['1000'].keys())\n",
      "while not stop:\n",
      "    movie = random.choice(movies)\n",
      "    rating = raw_input(\"Rate %s on a scale of 1-5, or x to exit: \" % r.productid2name[movie])\n",
      "    if rating not in [\"1\", \"2\", \"3\", \"4\", \"5\"]:\n",
      "        print \"OK, skipping.\"\n",
      "    else:\n",
      "        rated += 1\n",
      "        r.data['1000'][movie] = int(rating)\n",
      "        print \"Rated it %s. You have rated %s movies.\" % (rating, rated)\n",
      "    stop = rating == \"x\"\n",
      "\n",
      "print \"Done rating movies. Calculating recommendations.\"\n",
      "\n",
      "r.computeDeviations()\n",
      "r.slopeOneRecommendations(r.data['1000'])"
     ],
     "language": "python",
     "metadata": {},
     "outputs": []
    }
   ],
   "metadata": {}
  }
 ]
}